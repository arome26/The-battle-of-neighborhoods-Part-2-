{
 "cells": [
  {
   "cell_type": "markdown",
   "metadata": {},
   "source": [
    "## Capstone Project - The Battle of Neighborhoods\n",
    "**1.Introductions & Business Problem:**\n",
    "\n",
    "Having a successful restaurant is a difficult task that requires significant amount of time and ensuring your menu is original and distinct compared to others. Having a successful restaurant in New York City is the pinnacle for some chefs career. So, it is evident that to survive in such competitive market it is very important to strategically plan. Factors need to be studied in order to decide on the Location such as:\n",
    "\n",
    "1. New York Population\n",
    "2. New York City Demographics\n",
    "3. Are there any Farmers Markets, Wholesale markets etc nearby so that the ingredients can be purchased fresh to maintain quality and cost?\n",
    "4. Are there any venues like Gyms, Entertainment zones, Parks etc nearby where floating population is high etc\n",
    "5. Who are the competitors in that location?\n",
    "6. Cuisine served / Menu of the competitors\n",
    "7. Segmentation of the Borough Even though well-funded XYZ Company Ltd. need to choose the correct location to start its first venture. If this is successful, they can replicate the same in other locations. This would interest anyone who wants to start a new restaurant in New York city.\n",
    "\n",
    "**2. Data:**\n",
    "\n",
    "One city will be analysed in this project: New York City. We will be using the below datasets for analysing New York city\n",
    "\n",
    "Data 1: Neighbourhood has a total of 5 boroughs and 306 neighbourhoods. In order to segment the neighbourhoods and explore them, we will essentially need a dataset that contains the 5 boroughs and the neighbourhoods that exist in each borough as well as the latitude and longitude coordinates of each neighbourhood. Data source: https://cocl.us/new_york_dataset \n",
    "\n",
    "**Description: This data set contains the required information. And we will use this data set to explore various neighbourhoods of New York city.**\n",
    "\n",
    "Date 2: Indian restaurants in each neighbourhood of New York city. Data source: Foursquare API Description: By using this api we will get all the venues in each neighbourhood. We can filter these venues to get only Indian restaurants. Data 3: GeoSpace data Data source: https://data.cityofnewyork.us/City-Government/Borough-Boundaries/tqmj-j8zm Description: By using this geo space data we will get the New York Borough boundaries that will help us visualize choropleth map.\n",
    "\n",
    "Analysis\n",
    "\n",
    "We will import the required libraries for python.\n",
    "\n",
    "pandas and numpy for handling data.\n",
    "request module for using FourSquare API.\n",
    "geopy to get co-ordinates of City of New York.\n",
    "folium to visualize the results on a map"
   ]
  },
  {
   "cell_type": "code",
   "execution_count": 8,
   "metadata": {},
   "outputs": [
    {
     "name": "stdout",
     "output_type": "stream",
     "text": [
      "Collecting geocoder\n",
      "  Downloading https://files.pythonhosted.org/packages/4f/6b/13166c909ad2f2d76b929a4227c952630ebaf0d729f6317eb09cbceccbab/geocoder-1.38.1-py2.py3-none-any.whl (98kB)\n",
      "\u001b[K    100% |████████████████████████████████| 102kB 3.4MB/s a 0:00:011\n",
      "\u001b[?25hRequirement already satisfied: click in /Applications/Anaconda/anaconda/lib/python3.6/site-packages (from geocoder)\n",
      "Requirement already satisfied: requests in /Applications/Anaconda/anaconda/lib/python3.6/site-packages (from geocoder)\n",
      "Collecting ratelim (from geocoder)\n",
      "  Downloading https://files.pythonhosted.org/packages/f2/98/7e6d147fd16a10a5f821db6e25f192265d6ecca3d82957a4fdd592cad49c/ratelim-0.1.6-py2.py3-none-any.whl\n",
      "Collecting future (from geocoder)\n",
      "  Downloading https://files.pythonhosted.org/packages/45/0b/38b06fd9b92dc2b68d58b75f900e97884c45bedd2ff83203d933cf5851c9/future-0.18.2.tar.gz (829kB)\n",
      "\u001b[K    100% |████████████████████████████████| 829kB 694kB/s ta 0:00:011\n",
      "\u001b[?25hRequirement already satisfied: six in /Applications/Anaconda/anaconda/lib/python3.6/site-packages (from geocoder)\n",
      "Requirement already satisfied: chardet<4,>=3.0.2 in /Applications/Anaconda/anaconda/lib/python3.6/site-packages (from requests->geocoder)\n",
      "Requirement already satisfied: idna<3,>=2.5 in /Applications/Anaconda/anaconda/lib/python3.6/site-packages (from requests->geocoder)\n",
      "Requirement already satisfied: urllib3!=1.25.0,!=1.25.1,<1.26,>=1.21.1 in /Applications/Anaconda/anaconda/lib/python3.6/site-packages (from requests->geocoder)\n",
      "Requirement already satisfied: certifi>=2017.4.17 in /Applications/Anaconda/anaconda/lib/python3.6/site-packages (from requests->geocoder)\n",
      "Requirement already satisfied: decorator in /Applications/Anaconda/anaconda/lib/python3.6/site-packages (from ratelim->geocoder)\n",
      "Building wheels for collected packages: future\n",
      "  Running setup.py bdist_wheel for future ... \u001b[?25ldone\n",
      "\u001b[?25h  Stored in directory: /Users/arielromero/Library/Caches/pip/wheels/8b/99/a0/81daf51dcd359a9377b110a8a886b3895921802d2fc1b2397e\n",
      "Successfully built future\n",
      "Installing collected packages: ratelim, future, geocoder\n",
      "Successfully installed future-0.18.2 geocoder-1.38.1 ratelim-0.1.6\n",
      "\u001b[33mYou are using pip version 9.0.1, however version 20.3.1 is available.\n",
      "You should consider upgrading via the 'pip install --upgrade pip' command.\u001b[0m\n",
      "Collecting package metadata (repodata.json): done\n",
      "Solving environment: \\ WARNING conda.resolve:_get_sat_solver_cls(57): Could not run SAT solver through interface 'pycosat'.\n",
      "failed with initial frozen solve. Retrying with flexible solve.\n",
      "\n",
      "CondaDependencyError: Cannot run solver. No functioning SAT implementations available.\n",
      "\n",
      "Collecting package metadata (repodata.json): done\n",
      "Solving environment: / WARNING conda.resolve:_get_sat_solver_cls(57): Could not run SAT solver through interface 'pycosat'.\n",
      "failed with initial frozen solve. Retrying with flexible solve.\n",
      "\n",
      "CondaDependencyError: Cannot run solver. No functioning SAT implementations available.\n",
      "\n",
      "Collecting package metadata (repodata.json): done\n",
      "Solving environment: - WARNING conda.resolve:_get_sat_solver_cls(57): Could not run SAT solver through interface 'pycosat'.\n",
      "failed with initial frozen solve. Retrying with flexible solve.\n",
      "\n",
      "CondaDependencyError: Cannot run solver. No functioning SAT implementations available.\n",
      "\n",
      "Libraries imported.\n"
     ]
    }
   ],
   "source": [
    "import pandas as pd\n",
    "import numpy as np\n",
    "pd.set_option('display.max_columns', None)\n",
    "pd.set_option('display.max_rows', None)\n",
    "import requests\n",
    "from bs4 import BeautifulSoup\n",
    "\n",
    "!pip install geocoder\n",
    "\n",
    "import os\n",
    "!conda install -c conda-forge folium\n",
    "import folium # map rendering library\n",
    "!conda install -c conda-forge geocoder\n",
    "!conda install -c conda-forge geopy --yes\n",
    "import geocoder\n",
    "from geopy.geocoders import Nominatim # convert an address into latitude and longitude values\n",
    "# Matplotlib and associated plotting modules\n",
    "import matplotlib.pyplot as plt\n",
    "import matplotlib.cm as cm\n",
    "import matplotlib.colors as colors\n",
    "%matplotlib inline\n",
    "\n",
    "\n",
    "print('Libraries imported.')"
   ]
  },
  {
   "cell_type": "markdown",
   "metadata": {},
   "source": [
    "Now we define a function to get the geocodes i.e latitude and longitude of a given location using geopy."
   ]
  },
  {
   "cell_type": "code",
   "execution_count": 9,
   "metadata": {
    "collapsed": true
   },
   "outputs": [],
   "source": [
    "def geo_location(address):\n",
    "    # get geo location of address\n",
    "    geolocator = Nominatim(user_agent=\"ny_explorer\")\n",
    "    location = geolocator.geocode(address)\n",
    "    latitude = location.latitude\n",
    "    longitude = location.longitude\n",
    "    return latitude,longitude"
   ]
  },
  {
   "cell_type": "markdown",
   "metadata": {},
   "source": [
    "We define a function to interact with FourSquare API and get top 100 venues within a radius of 1000 metres for a given latitude and longitude. Below function will return us the venue id , venue name and category.\n",
    "\n"
   ]
  },
  {
   "cell_type": "code",
   "execution_count": 10,
   "metadata": {
    "collapsed": true
   },
   "outputs": [],
   "source": [
    "def get_venues(lat,lng):\n",
    "    \n",
    "    #set variables\n",
    "    radius=1000\n",
    "    LIMIT=100\n",
    "    CLIENT_ID = '0G0KFCU55P01WMUAE5ZSE1NRPQQIP5F0J5EY1ZI0IKHQDNYG' # your Foursquare ID\n",
    "    CLIENT_SECRET = 'QU5PJIGT233ERHLCAVAPFPLYPGJ1KDN1YJYTFJHRBADVWJWM' # your Foursquare Secret\n",
    "    VERSION = '20180605' # Foursquare API version\n",
    "    \n",
    "    #url to fetch data from foursquare api\n",
    "    url = 'https://api.foursquare.com/v2/venues/explore?&client_id={}&client_secret={}&v={}&ll={},{}&radius={}&limit={}'.format(\n",
    "            CLIENT_ID, \n",
    "            CLIENT_SECRET, \n",
    "            VERSION, \n",
    "            lat, \n",
    "            lng, \n",
    "            radius, \n",
    "            LIMIT)\n",
    "    \n",
    "    # get all the data\n",
    "    results = requests.get(url).json()\n",
    "    venue_data=results[\"response\"]['groups'][0]['items']\n",
    "    venue_details=[]\n",
    "    for row in venue_data:\n",
    "        try:\n",
    "            venue_id=row['venue']['id']\n",
    "            venue_name=row['venue']['name']\n",
    "            venue_category=row['venue']['categories'][0]['name']\n",
    "            venue_details.append([venue_id,venue_name,venue_category])\n",
    "        except KeyError:\n",
    "            pass\n",
    "        \n",
    "    column_names=['ID','Name','Category']\n",
    "    df = pd.DataFrame(venue_details,columns=column_names)\n",
    "    return df"
   ]
  },
  {
   "cell_type": "markdown",
   "metadata": {},
   "source": [
    "Now we will define a function to get venue details like like count , rating , tip counts for a given venue id. This will be used for ranking."
   ]
  },
  {
   "cell_type": "code",
   "execution_count": 11,
   "metadata": {
    "collapsed": true
   },
   "outputs": [],
   "source": [
    "def get_venue_details(venue_id):\n",
    "        \n",
    "    CLIENT_ID = '0G0KFCU55P01WMUAE5ZSE1NRPQQIP5F0J5EY1ZI0IKHQDNYG' # your Foursquare ID\n",
    "    CLIENT_SECRET = 'QU5PJIGT233ERHLCAVAPFPLYPGJ1KDN1YJYTFJHRBADVWJWM'# your Foursquare Secret\n",
    "    VERSION = '20180605' # Foursquare API version\n",
    "    \n",
    "    #url to fetch data from foursquare api\n",
    "    url = 'https://api.foursquare.com/v2/venues/{}?&client_id={}&client_secret={}&v={}'.format(\n",
    "            venue_id,\n",
    "            CLIENT_ID, \n",
    "            CLIENT_SECRET, \n",
    "            VERSION)\n",
    "    \n",
    "    # get all the data\n",
    "    results = requests.get(url).json()\n",
    "    venue_data=results['response']['venue']\n",
    "    venue_details=[]\n",
    "    try:\n",
    "        venue_id=venue_data['id']\n",
    "        venue_name=venue_data['name']\n",
    "        venue_likes=venue_data['likes']['count']\n",
    "        venue_rating=venue_data['rating']\n",
    "        venue_tips=venue_data['tips']['count']\n",
    "        venue_details.append([venue_id,venue_name,venue_likes,venue_rating,venue_tips])\n",
    "    except KeyError:\n",
    "        pass\n",
    "        \n",
    "    column_names=['ID','Name','Likes','Rating','Tips']\n",
    "    df = pd.DataFrame(venue_details,columns=column_names)\n",
    "    return df"
   ]
  },
  {
   "cell_type": "markdown",
   "metadata": {},
   "source": [
    "Now we define a funtion to get the new york city data such as Boroughs, Neighborhoods along with their latitude and longitude."
   ]
  },
  {
   "cell_type": "code",
   "execution_count": 12,
   "metadata": {
    "collapsed": true
   },
   "outputs": [],
   "source": [
    "def get_new_york_data():\n",
    "    url='https://cocl.us/new_york_dataset'\n",
    "    resp=requests.get(url).json()\n",
    "    # all data is present in features label\n",
    "    features=resp['features']\n",
    "    \n",
    "    # define the dataframe columns\n",
    "    column_names = ['Borough', 'Neighborhood', 'Latitude', 'Longitude'] \n",
    "    # instantiate the dataframe\n",
    "    new_york_data = pd.DataFrame(columns=column_names)\n",
    "    \n",
    "    for data in features:\n",
    "        borough = data['properties']['borough'] \n",
    "        neighborhood_name = data['properties']['name']\n",
    "        \n",
    "        neighborhood_latlon = data['geometry']['coordinates']\n",
    "        neighborhood_lat = neighborhood_latlon[1]\n",
    "        neighborhood_lon = neighborhood_latlon[0]\n",
    "    \n",
    "        new_york_data = new_york_data.append({'Borough': borough,\n",
    "                                          'Neighborhood': neighborhood_name,\n",
    "                                          'Latitude': neighborhood_lat,\n",
    "                                          'Longitude': neighborhood_lon}, ignore_index=True)\n",
    "    \n",
    "    return new_york_data"
   ]
  },
  {
   "cell_type": "markdown",
   "metadata": {},
   "source": [
    "We will call the above funtion to get the new york city data."
   ]
  },
  {
   "cell_type": "code",
   "execution_count": 15,
   "metadata": {
    "collapsed": true
   },
   "outputs": [],
   "source": [
    "# get new york data\n",
    "new_york_data=get_new_york_data()"
   ]
  },
  {
   "cell_type": "code",
   "execution_count": 16,
   "metadata": {},
   "outputs": [
    {
     "data": {
      "text/html": [
       "<div>\n",
       "<style>\n",
       "    .dataframe thead tr:only-child th {\n",
       "        text-align: right;\n",
       "    }\n",
       "\n",
       "    .dataframe thead th {\n",
       "        text-align: left;\n",
       "    }\n",
       "\n",
       "    .dataframe tbody tr th {\n",
       "        vertical-align: top;\n",
       "    }\n",
       "</style>\n",
       "<table border=\"1\" class=\"dataframe\">\n",
       "  <thead>\n",
       "    <tr style=\"text-align: right;\">\n",
       "      <th></th>\n",
       "      <th>Borough</th>\n",
       "      <th>Neighborhood</th>\n",
       "      <th>Latitude</th>\n",
       "      <th>Longitude</th>\n",
       "    </tr>\n",
       "  </thead>\n",
       "  <tbody>\n",
       "    <tr>\n",
       "      <th>0</th>\n",
       "      <td>Bronx</td>\n",
       "      <td>Wakefield</td>\n",
       "      <td>40.894705</td>\n",
       "      <td>-73.847201</td>\n",
       "    </tr>\n",
       "    <tr>\n",
       "      <th>1</th>\n",
       "      <td>Bronx</td>\n",
       "      <td>Co-op City</td>\n",
       "      <td>40.874294</td>\n",
       "      <td>-73.829939</td>\n",
       "    </tr>\n",
       "    <tr>\n",
       "      <th>2</th>\n",
       "      <td>Bronx</td>\n",
       "      <td>Eastchester</td>\n",
       "      <td>40.887556</td>\n",
       "      <td>-73.827806</td>\n",
       "    </tr>\n",
       "    <tr>\n",
       "      <th>3</th>\n",
       "      <td>Bronx</td>\n",
       "      <td>Fieldston</td>\n",
       "      <td>40.895437</td>\n",
       "      <td>-73.905643</td>\n",
       "    </tr>\n",
       "    <tr>\n",
       "      <th>4</th>\n",
       "      <td>Bronx</td>\n",
       "      <td>Riverdale</td>\n",
       "      <td>40.890834</td>\n",
       "      <td>-73.912585</td>\n",
       "    </tr>\n",
       "  </tbody>\n",
       "</table>\n",
       "</div>"
      ],
      "text/plain": [
       "  Borough Neighborhood   Latitude  Longitude\n",
       "0   Bronx    Wakefield  40.894705 -73.847201\n",
       "1   Bronx   Co-op City  40.874294 -73.829939\n",
       "2   Bronx  Eastchester  40.887556 -73.827806\n",
       "3   Bronx    Fieldston  40.895437 -73.905643\n",
       "4   Bronx    Riverdale  40.890834 -73.912585"
      ]
     },
     "execution_count": 16,
     "metadata": {},
     "output_type": "execute_result"
    }
   ],
   "source": [
    "new_york_data.head()"
   ]
  },
  {
   "cell_type": "code",
   "execution_count": 17,
   "metadata": {},
   "outputs": [
    {
     "data": {
      "text/plain": [
       "(306, 4)"
      ]
     },
     "execution_count": 17,
     "metadata": {},
     "output_type": "execute_result"
    }
   ],
   "source": [
    "new_york_data.shape"
   ]
  },
  {
   "cell_type": "code",
   "execution_count": 18,
   "metadata": {},
   "outputs": [
    {
     "data": {
      "image/png": "[encoded data removed]",
      "text/plain": [
       "<matplotlib.figure.Figure at 0x11641fcf8>"
      ]
     },
     "metadata": {},
     "output_type": "display_data"
    }
   ],
   "source": [
    "plt.figure(figsize=(9,5), dpi = 100)\n",
    "# title\n",
    "plt.title('Number of Neighborhood for each Borough in New York City')\n",
    "#On x-axis\n",
    "plt.xlabel('Borough', fontsize = 15)\n",
    "#On y-axis\n",
    "plt.ylabel('No.of Neighborhood', fontsize=15)\n",
    "#giving a bar plot\n",
    "new_york_data.groupby('Borough')['Neighborhood'].count().plot(kind='bar')\n",
    "#legend\n",
    "plt.legend()\n",
    "#displays the plot\n",
    "plt.show()"
   ]
  },
  {
   "cell_type": "markdown",
   "metadata": {},
   "source": [
    "Now we will collect Spanish restaurants for each Neighborhood"
   ]
  },
  {
   "cell_type": "code",
   "execution_count": 24,
   "metadata": {},
   "outputs": [
    {
     "name": "stdout",
     "output_type": "stream",
     "text": [
      "( 1 / 306 ) Italian Restaurants in Wakefield, Bronx:0\n",
      "( 2 / 306 ) Italian Restaurants in Co-op City, Bronx:0\n",
      "( 3 / 306 ) Italian Restaurants in Eastchester, Bronx:0\n",
      "( 4 / 306 ) Italian Restaurants in Fieldston, Bronx:0\n",
      "( 5 / 306 ) Italian Restaurants in Riverdale, Bronx:1\n",
      "( 6 / 306 ) Italian Restaurants in Kingsbridge, Bronx:1\n",
      "( 7 / 306 ) Italian Restaurants in Marble Hill, Manhattan:0\n",
      "( 8 / 306 ) Italian Restaurants in Woodlawn, Bronx:1\n",
      "( 9 / 306 ) Italian Restaurants in Norwood, Bronx:0\n",
      "( 10 / 306 ) Italian Restaurants in Williamsbridge, Bronx:0\n",
      "( 11 / 306 ) Italian Restaurants in Baychester, Bronx:2\n",
      "( 12 / 306 ) Italian Restaurants in Pelham Parkway, Bronx:3\n",
      "( 13 / 306 ) Italian Restaurants in City Island, Bronx:3\n",
      "( 14 / 306 ) Italian Restaurants in Bedford Park, Bronx:1\n",
      "( 15 / 306 ) Italian Restaurants in University Heights, Bronx:0\n",
      "( 16 / 306 ) Italian Restaurants in Morris Heights, Bronx:0\n",
      "( 17 / 306 ) Italian Restaurants in Fordham, Bronx:10\n",
      "( 18 / 306 ) Italian Restaurants in East Tremont, Bronx:0\n",
      "( 19 / 306 ) Italian Restaurants in West Farms, Bronx:0\n",
      "( 20 / 306 ) Italian Restaurants in High  Bridge, Bronx:0\n",
      "( 21 / 306 ) Italian Restaurants in Melrose, Bronx:2\n",
      "( 22 / 306 ) Italian Restaurants in Mott Haven, Bronx:1\n",
      "( 23 / 306 ) Italian Restaurants in Port Morris, Bronx:0\n",
      "( 24 / 306 ) Italian Restaurants in Longwood, Bronx:0\n",
      "( 25 / 306 ) Italian Restaurants in Hunts Point, Bronx:0\n",
      "( 26 / 306 ) Italian Restaurants in Morrisania, Bronx:1\n",
      "( 27 / 306 ) Italian Restaurants in Soundview, Bronx:0\n",
      "( 28 / 306 ) Italian Restaurants in Clason Point, Bronx:0\n",
      "( 29 / 306 ) Italian Restaurants in Throgs Neck, Bronx:6\n",
      "( 30 / 306 ) Italian Restaurants in Country Club, Bronx:4\n",
      "( 31 / 306 ) Italian Restaurants in Parkchester, Bronx:0\n",
      "( 32 / 306 ) Italian Restaurants in Westchester Square, Bronx:1\n",
      "( 33 / 306 ) Italian Restaurants in Van Nest, Bronx:2\n",
      "( 34 / 306 ) Italian Restaurants in Morris Park, Bronx:5\n",
      "( 35 / 306 ) Italian Restaurants in Belmont, Bronx:15\n",
      "( 36 / 306 ) Italian Restaurants in Spuyten Duyvil, Bronx:1\n",
      "( 37 / 306 ) Italian Restaurants in North Riverdale, Bronx:2\n",
      "( 38 / 306 ) Italian Restaurants in Pelham Bay, Bronx:4\n",
      "( 39 / 306 ) Italian Restaurants in Schuylerville, Bronx:3\n",
      "( 40 / 306 ) Italian Restaurants in Edgewater Park, Bronx:6\n",
      "( 41 / 306 ) Italian Restaurants in Castle Hill, Bronx:0\n",
      "( 42 / 306 ) Italian Restaurants in Olinville, Bronx:0\n",
      "( 43 / 306 ) Italian Restaurants in Pelham Gardens, Bronx:1\n",
      "( 44 / 306 ) Italian Restaurants in Concourse, Bronx:1\n",
      "( 45 / 306 ) Italian Restaurants in Unionport, Bronx:0\n",
      "( 46 / 306 ) Italian Restaurants in Edenwald, Bronx:0\n",
      "( 47 / 306 ) Italian Restaurants in Bay Ridge, Brooklyn:6\n",
      "( 48 / 306 ) Italian Restaurants in Bensonhurst, Brooklyn:4\n",
      "( 49 / 306 ) Italian Restaurants in Sunset Park, Brooklyn:1\n",
      "( 50 / 306 ) Italian Restaurants in Greenpoint, Brooklyn:2\n",
      "( 51 / 306 ) Italian Restaurants in Gravesend, Brooklyn:1\n",
      "( 52 / 306 ) Italian Restaurants in Brighton Beach, Brooklyn:0\n",
      "( 53 / 306 ) Italian Restaurants in Sheepshead Bay, Brooklyn:5\n",
      "( 54 / 306 ) Italian Restaurants in Manhattan Terrace, Brooklyn:0\n",
      "( 55 / 306 ) Italian Restaurants in Flatbush, Brooklyn:1\n",
      "( 56 / 306 ) Italian Restaurants in Crown Heights, Brooklyn:0\n",
      "( 57 / 306 ) Italian Restaurants in East Flatbush, Brooklyn:0\n",
      "( 58 / 306 ) Italian Restaurants in Kensington, Brooklyn:0\n",
      "( 59 / 306 ) Italian Restaurants in Windsor Terrace, Brooklyn:5\n",
      "( 60 / 306 ) Italian Restaurants in Prospect Heights, Brooklyn:1\n",
      "( 61 / 306 ) Italian Restaurants in Brownsville, Brooklyn:0\n",
      "( 62 / 306 ) Italian Restaurants in Williamsburg, Brooklyn:1\n",
      "( 63 / 306 ) Italian Restaurants in Bushwick, Brooklyn:2\n",
      "( 64 / 306 ) Italian Restaurants in Bedford Stuyvesant, Brooklyn:1\n",
      "( 65 / 306 ) Italian Restaurants in Brooklyn Heights, Brooklyn:4\n",
      "( 66 / 306 ) Italian Restaurants in Cobble Hill, Brooklyn:6\n",
      "( 67 / 306 ) Italian Restaurants in Carroll Gardens, Brooklyn:6\n",
      "( 68 / 306 ) Italian Restaurants in Red Hook, Brooklyn:0\n",
      "( 69 / 306 ) Italian Restaurants in Gowanus, Brooklyn:4\n",
      "( 70 / 306 ) Italian Restaurants in Fort Greene, Brooklyn:5\n",
      "( 71 / 306 ) Italian Restaurants in Park Slope, Brooklyn:1\n",
      "( 72 / 306 ) Italian Restaurants in Cypress Hills, Brooklyn:0\n",
      "( 73 / 306 ) Italian Restaurants in East New York, Brooklyn:0\n",
      "( 74 / 306 ) Italian Restaurants in Starrett City, Brooklyn:1\n",
      "( 75 / 306 ) Italian Restaurants in Canarsie, Brooklyn:0\n",
      "( 76 / 306 ) Italian Restaurants in Flatlands, Brooklyn:0\n",
      "( 77 / 306 ) Italian Restaurants in Mill Island, Brooklyn:0\n",
      "( 78 / 306 ) Italian Restaurants in Manhattan Beach, Brooklyn:5\n",
      "( 79 / 306 ) Italian Restaurants in Coney Island, Brooklyn:1\n",
      "( 80 / 306 ) Italian Restaurants in Bath Beach, Brooklyn:3\n",
      "( 81 / 306 ) Italian Restaurants in Borough Park, Brooklyn:0\n",
      "( 82 / 306 ) Italian Restaurants in Dyker Heights, Brooklyn:2\n",
      "( 83 / 306 ) Italian Restaurants in Gerritsen Beach, Brooklyn:2\n",
      "( 84 / 306 ) Italian Restaurants in Marine Park, Brooklyn:2\n",
      "( 85 / 306 ) Italian Restaurants in Clinton Hill, Brooklyn:6\n",
      "( 86 / 306 ) Italian Restaurants in Sea Gate, Brooklyn:0\n",
      "( 87 / 306 ) Italian Restaurants in Downtown, Brooklyn:1\n",
      "( 88 / 306 ) Italian Restaurants in Boerum Hill, Brooklyn:1\n",
      "( 89 / 306 ) Italian Restaurants in Prospect Lefferts Gardens, Brooklyn:2\n",
      "( 90 / 306 ) Italian Restaurants in Ocean Hill, Brooklyn:0\n",
      "( 91 / 306 ) Italian Restaurants in City Line, Brooklyn:0\n",
      "( 92 / 306 ) Italian Restaurants in Bergen Beach, Brooklyn:1\n",
      "( 93 / 306 ) Italian Restaurants in Midwood, Brooklyn:0\n",
      "( 94 / 306 ) Italian Restaurants in Prospect Park South, Brooklyn:1\n",
      "( 95 / 306 ) Italian Restaurants in Georgetown, Brooklyn:4\n",
      "( 96 / 306 ) Italian Restaurants in East Williamsburg, Brooklyn:3\n",
      "( 97 / 306 ) Italian Restaurants in North Side, Brooklyn:1\n",
      "( 98 / 306 ) Italian Restaurants in South Side, Brooklyn:1\n",
      "( 99 / 306 ) Italian Restaurants in Ocean Parkway, Brooklyn:3\n",
      "( 100 / 306 ) Italian Restaurants in Fort Hamilton, Brooklyn:4\n",
      "( 101 / 306 ) Italian Restaurants in Chinatown, Manhattan:0\n",
      "( 102 / 306 ) Italian Restaurants in Washington Heights, Manhattan:1\n",
      "( 103 / 306 ) Italian Restaurants in Inwood, Manhattan:0\n",
      "( 104 / 306 ) Italian Restaurants in Hamilton Heights, Manhattan:2\n",
      "( 105 / 306 ) Italian Restaurants in Manhattanville, Manhattan:4\n",
      "( 106 / 306 ) Italian Restaurants in Central Harlem, Manhattan:1\n",
      "( 107 / 306 ) Italian Restaurants in East Harlem, Manhattan:4\n",
      "( 108 / 306 ) Italian Restaurants in Upper East Side, Manhattan:8\n",
      "( 109 / 306 ) Italian Restaurants in Yorkville, Manhattan:4\n",
      "( 110 / 306 ) Italian Restaurants in Lenox Hill, Manhattan:7\n",
      "( 111 / 306 ) Italian Restaurants in Roosevelt Island, Manhattan:2\n",
      "( 112 / 306 ) Italian Restaurants in Upper West Side, Manhattan:5\n",
      "( 113 / 306 ) Italian Restaurants in Lincoln Square, Manhattan:5\n",
      "( 114 / 306 ) Italian Restaurants in Clinton, Manhattan:3\n",
      "( 115 / 306 ) Italian Restaurants in Midtown, Manhattan:1\n",
      "( 116 / 306 ) Italian Restaurants in Murray Hill, Manhattan:1\n",
      "( 117 / 306 ) Italian Restaurants in Chelsea, Manhattan:2\n",
      "( 118 / 306 ) Italian Restaurants in Greenwich Village, Manhattan:10\n",
      "( 119 / 306 ) Italian Restaurants in East Village, Manhattan:1\n",
      "( 120 / 306 ) Italian Restaurants in Lower East Side, Manhattan:3\n",
      "( 121 / 306 ) Italian Restaurants in Tribeca, Manhattan:3\n",
      "( 122 / 306 ) Italian Restaurants in Little Italy, Manhattan:3\n",
      "( 123 / 306 ) Italian Restaurants in Soho, Manhattan:7\n",
      "( 124 / 306 ) Italian Restaurants in West Village, Manhattan:10\n",
      "( 125 / 306 ) Italian Restaurants in Manhattan Valley, Manhattan:2\n",
      "( 126 / 306 ) Italian Restaurants in Morningside Heights, Manhattan:4\n",
      "( 127 / 306 ) Italian Restaurants in Gramercy, Manhattan:4\n",
      "( 128 / 306 ) Italian Restaurants in Battery Park City, Manhattan:0\n",
      "( 129 / 306 ) Italian Restaurants in Financial District, Manhattan:1\n",
      "( 130 / 306 ) Italian Restaurants in Astoria, Queens:2\n",
      "( 131 / 306 ) Italian Restaurants in Woodside, Queens:0\n",
      "( 132 / 306 ) Italian Restaurants in Jackson Heights, Queens:1\n",
      "( 133 / 306 ) Italian Restaurants in Elmhurst, Queens:0\n",
      "( 134 / 306 ) Italian Restaurants in Howard Beach, Queens:4\n",
      "( 135 / 306 ) Italian Restaurants in Corona, Queens:2\n",
      "( 136 / 306 ) Italian Restaurants in Forest Hills, Queens:2\n",
      "( 137 / 306 ) Italian Restaurants in Kew Gardens, Queens:0\n"
     ]
    },
    {
     "name": "stdout",
     "output_type": "stream",
     "text": [
      "( 138 / 306 ) Italian Restaurants in Richmond Hill, Queens:1\n",
      "( 139 / 306 ) Italian Restaurants in Flushing, Queens:0\n",
      "( 140 / 306 ) Italian Restaurants in Long Island City, Queens:3\n",
      "( 141 / 306 ) Italian Restaurants in Sunnyside, Queens:1\n",
      "( 142 / 306 ) Italian Restaurants in East Elmhurst, Queens:1\n",
      "( 143 / 306 ) Italian Restaurants in Maspeth, Queens:2\n",
      "( 144 / 306 ) Italian Restaurants in Ridgewood, Queens:3\n",
      "( 145 / 306 ) Italian Restaurants in Glendale, Queens:1\n",
      "( 146 / 306 ) Italian Restaurants in Rego Park, Queens:1\n",
      "( 147 / 306 ) Italian Restaurants in Woodhaven, Queens:0\n",
      "( 148 / 306 ) Italian Restaurants in Ozone Park, Queens:1\n",
      "( 149 / 306 ) Italian Restaurants in South Ozone Park, Queens:1\n",
      "( 150 / 306 ) Italian Restaurants in College Point, Queens:0\n",
      "( 151 / 306 ) Italian Restaurants in Whitestone, Queens:5\n",
      "( 152 / 306 ) Italian Restaurants in Bayside, Queens:3\n",
      "( 153 / 306 ) Italian Restaurants in Auburndale, Queens:2\n",
      "( 154 / 306 ) Italian Restaurants in Little Neck, Queens:6\n",
      "( 155 / 306 ) Italian Restaurants in Douglaston, Queens:5\n",
      "( 156 / 306 ) Italian Restaurants in Glen Oaks, Queens:1\n",
      "( 157 / 306 ) Italian Restaurants in Bellerose, Queens:2\n",
      "( 158 / 306 ) Italian Restaurants in Kew Gardens Hills, Queens:0\n",
      "( 159 / 306 ) Italian Restaurants in Fresh Meadows, Queens:0\n",
      "( 160 / 306 ) Italian Restaurants in Briarwood, Queens:0\n",
      "( 161 / 306 ) Italian Restaurants in Jamaica Center, Queens:0\n",
      "( 162 / 306 ) Italian Restaurants in Oakland Gardens, Queens:2\n",
      "( 163 / 306 ) Italian Restaurants in Queens Village, Queens:0\n",
      "( 164 / 306 ) Italian Restaurants in Hollis, Queens:0\n",
      "( 165 / 306 ) Italian Restaurants in South Jamaica, Queens:0\n",
      "( 166 / 306 ) Italian Restaurants in St. Albans, Queens:0\n",
      "( 167 / 306 ) Italian Restaurants in Rochdale, Queens:0\n",
      "( 168 / 306 ) Italian Restaurants in Springfield Gardens, Queens:0\n",
      "( 169 / 306 ) Italian Restaurants in Cambria Heights, Queens:0\n",
      "( 170 / 306 ) Italian Restaurants in Rosedale, Queens:0\n",
      "( 171 / 306 ) Italian Restaurants in Far Rockaway, Queens:0\n",
      "( 172 / 306 ) Italian Restaurants in Broad Channel, Queens:0\n",
      "( 173 / 306 ) Italian Restaurants in Breezy Point, Queens:0\n",
      "( 174 / 306 ) Italian Restaurants in Steinway, Queens:6\n",
      "( 175 / 306 ) Italian Restaurants in Beechhurst, Queens:6\n",
      "( 176 / 306 ) Italian Restaurants in Bay Terrace, Queens:0\n",
      "( 177 / 306 ) Italian Restaurants in Edgemere, Queens:0\n",
      "( 178 / 306 ) Italian Restaurants in Arverne, Queens:0\n",
      "( 179 / 306 ) Italian Restaurants in Rockaway Beach, Queens:0\n",
      "( 180 / 306 ) Italian Restaurants in Neponsit, Queens:1\n",
      "( 181 / 306 ) Italian Restaurants in Murray Hill, Queens:0\n",
      "( 182 / 306 ) Italian Restaurants in Floral Park, Queens:1\n",
      "( 183 / 306 ) Italian Restaurants in Holliswood, Queens:0\n",
      "( 184 / 306 ) Italian Restaurants in Jamaica Estates, Queens:0\n",
      "( 185 / 306 ) Italian Restaurants in Queensboro Hill, Queens:0\n",
      "( 186 / 306 ) Italian Restaurants in Hillcrest, Queens:1\n",
      "( 187 / 306 ) Italian Restaurants in Ravenswood, Queens:4\n",
      "( 188 / 306 ) Italian Restaurants in Lindenwood, Queens:3\n",
      "( 189 / 306 ) Italian Restaurants in Laurelton, Queens:0\n",
      "( 190 / 306 ) Italian Restaurants in Lefrak City, Queens:1\n",
      "( 191 / 306 ) Italian Restaurants in Belle Harbor, Queens:1\n",
      "( 192 / 306 ) Italian Restaurants in Rockaway Park, Queens:1\n",
      "( 193 / 306 ) Italian Restaurants in Somerville, Queens:0\n",
      "( 194 / 306 ) Italian Restaurants in Brookville, Queens:0\n",
      "( 195 / 306 ) Italian Restaurants in Bellaire, Queens:3\n",
      "( 196 / 306 ) Italian Restaurants in North Corona, Queens:0\n",
      "( 197 / 306 ) Italian Restaurants in Forest Hills Gardens, Queens:2\n",
      "( 198 / 306 ) Italian Restaurants in St. George, Staten Island:3\n",
      "( 199 / 306 ) Italian Restaurants in New Brighton, Staten Island:3\n",
      "( 200 / 306 ) Italian Restaurants in Stapleton, Staten Island:0\n",
      "( 201 / 306 ) Italian Restaurants in Rosebank, Staten Island:4\n",
      "( 202 / 306 ) Italian Restaurants in West Brighton, Staten Island:3\n",
      "( 203 / 306 ) Italian Restaurants in Grymes Hill, Staten Island:0\n",
      "( 204 / 306 ) Italian Restaurants in Todt Hill, Staten Island:0\n",
      "( 205 / 306 ) Italian Restaurants in South Beach, Staten Island:0\n",
      "( 206 / 306 ) Italian Restaurants in Port Richmond, Staten Island:0\n",
      "( 207 / 306 ) Italian Restaurants in Mariner's Harbor, Staten Island:2\n",
      "( 208 / 306 ) Italian Restaurants in Port Ivory, Staten Island:0\n",
      "( 209 / 306 ) Italian Restaurants in Castleton Corners, Staten Island:2\n",
      "( 210 / 306 ) Italian Restaurants in New Springville, Staten Island:0\n",
      "( 211 / 306 ) Italian Restaurants in Travis, Staten Island:1\n",
      "( 212 / 306 ) Italian Restaurants in New Dorp, Staten Island:4\n",
      "( 213 / 306 ) Italian Restaurants in Oakwood, Staten Island:0\n",
      "( 214 / 306 ) Italian Restaurants in Great Kills, Staten Island:5\n",
      "( 215 / 306 ) Italian Restaurants in Eltingville, Staten Island:3\n",
      "( 216 / 306 ) Italian Restaurants in Annadale, Staten Island:0\n",
      "( 217 / 306 ) Italian Restaurants in Woodrow, Staten Island:1\n",
      "( 218 / 306 ) Italian Restaurants in Tottenville, Staten Island:4\n",
      "( 219 / 306 ) Italian Restaurants in Tompkinsville, Staten Island:4\n",
      "( 220 / 306 ) Italian Restaurants in Silver Lake, Staten Island:0\n",
      "( 221 / 306 ) Italian Restaurants in Sunnyside, Staten Island:0\n",
      "( 222 / 306 ) Italian Restaurants in Ditmas Park, Brooklyn:1\n",
      "( 223 / 306 ) Italian Restaurants in Wingate, Brooklyn:0\n",
      "( 224 / 306 ) Italian Restaurants in Rugby, Brooklyn:0\n",
      "( 225 / 306 ) Italian Restaurants in Park Hill, Staten Island:1\n",
      "( 226 / 306 ) Italian Restaurants in Westerleigh, Staten Island:1\n",
      "( 227 / 306 ) Italian Restaurants in Graniteville, Staten Island:0\n",
      "( 228 / 306 ) Italian Restaurants in Arlington, Staten Island:0\n",
      "( 229 / 306 ) Italian Restaurants in Arrochar, Staten Island:2\n",
      "( 230 / 306 ) Italian Restaurants in Grasmere, Staten Island:4\n",
      "( 231 / 306 ) Italian Restaurants in Old Town, Staten Island:7\n",
      "( 232 / 306 ) Italian Restaurants in Dongan Hills, Staten Island:7\n",
      "( 233 / 306 ) Italian Restaurants in Midland Beach, Staten Island:0\n",
      "( 234 / 306 ) Italian Restaurants in Grant City, Staten Island:4\n",
      "( 235 / 306 ) Italian Restaurants in New Dorp Beach, Staten Island:1\n",
      "( 236 / 306 ) Italian Restaurants in Bay Terrace, Staten Island:3\n",
      "( 237 / 306 ) Italian Restaurants in Huguenot, Staten Island:1\n",
      "( 238 / 306 ) Italian Restaurants in Pleasant Plains, Staten Island:0\n",
      "( 239 / 306 ) Italian Restaurants in Butler Manor, Staten Island:0\n",
      "( 240 / 306 ) Italian Restaurants in Charleston, Staten Island:3\n",
      "( 241 / 306 ) Italian Restaurants in Rossville, Staten Island:0\n",
      "( 242 / 306 ) Italian Restaurants in Arden Heights, Staten Island:1\n",
      "( 243 / 306 ) Italian Restaurants in Greenridge, Staten Island:1\n",
      "( 244 / 306 ) Italian Restaurants in Heartland Village, Staten Island:0\n",
      "( 245 / 306 ) Italian Restaurants in Chelsea, Staten Island:1\n",
      "( 246 / 306 ) Italian Restaurants in Bloomfield, Staten Island:0\n",
      "( 247 / 306 ) Italian Restaurants in Bulls Head, Staten Island:2\n",
      "( 248 / 306 ) Italian Restaurants in Carnegie Hill, Manhattan:3\n",
      "( 249 / 306 ) Italian Restaurants in Noho, Manhattan:3\n",
      "( 250 / 306 ) Italian Restaurants in Civic Center, Manhattan:3\n",
      "( 251 / 306 ) Italian Restaurants in Midtown South, Manhattan:4\n",
      "( 252 / 306 ) Italian Restaurants in Richmond Town, Staten Island:3\n",
      "( 253 / 306 ) Italian Restaurants in Shore Acres, Staten Island:4\n",
      "( 254 / 306 ) Italian Restaurants in Clifton, Staten Island:2\n",
      "( 255 / 306 ) Italian Restaurants in Concord, Staten Island:5\n",
      "( 256 / 306 ) Italian Restaurants in Emerson Hill, Staten Island:1\n",
      "( 257 / 306 ) Italian Restaurants in Randall Manor, Staten Island:1\n",
      "( 258 / 306 ) Italian Restaurants in Howland Hook, Staten Island:0\n",
      "( 259 / 306 ) Italian Restaurants in Elm Park, Staten Island:2\n",
      "( 260 / 306 ) Italian Restaurants in Remsen Village, Brooklyn:1\n",
      "( 261 / 306 ) Italian Restaurants in New Lots, Brooklyn:0\n",
      "( 262 / 306 ) Italian Restaurants in Paerdegat Basin, Brooklyn:0\n",
      "( 263 / 306 ) Italian Restaurants in Mill Basin, Brooklyn:3\n",
      "( 264 / 306 ) Italian Restaurants in Jamaica Hills, Queens:0\n",
      "( 265 / 306 ) Italian Restaurants in Utopia, Queens:1\n",
      "( 266 / 306 ) Italian Restaurants in Pomonok, Queens:1\n",
      "( 267 / 306 ) Italian Restaurants in Astoria Heights, Queens:3\n",
      "( 268 / 306 ) Italian Restaurants in Claremont Village, Bronx:0\n",
      "( 269 / 306 ) Italian Restaurants in Concourse Village, Bronx:2\n",
      "( 270 / 306 ) Italian Restaurants in Mount Eden, Bronx:0\n"
     ]
    },
    {
     "name": "stdout",
     "output_type": "stream",
     "text": [
      "( 271 / 306 ) Italian Restaurants in Mount Hope, Bronx:0\n",
      "( 272 / 306 ) Italian Restaurants in Sutton Place, Manhattan:5\n",
      "( 273 / 306 ) Italian Restaurants in Hunters Point, Queens:7\n",
      "( 274 / 306 ) Italian Restaurants in Turtle Bay, Manhattan:1\n",
      "( 275 / 306 ) Italian Restaurants in Tudor City, Manhattan:0\n",
      "( 276 / 306 ) Italian Restaurants in Stuyvesant Town, Manhattan:3\n",
      "( 277 / 306 ) Italian Restaurants in Flatiron, Manhattan:4\n",
      "( 278 / 306 ) Italian Restaurants in Sunnyside Gardens, Queens:3\n",
      "( 279 / 306 ) Italian Restaurants in Blissville, Queens:0\n",
      "( 280 / 306 ) Italian Restaurants in Fulton Ferry, Brooklyn:2\n",
      "( 281 / 306 ) Italian Restaurants in Vinegar Hill, Brooklyn:2\n",
      "( 282 / 306 ) Italian Restaurants in Weeksville, Brooklyn:0\n",
      "( 283 / 306 ) Italian Restaurants in Broadway Junction, Brooklyn:0\n",
      "( 284 / 306 ) Italian Restaurants in Dumbo, Brooklyn:2\n",
      "( 285 / 306 ) Italian Restaurants in Manor Heights, Staten Island:0\n",
      "( 286 / 306 ) Italian Restaurants in Willowbrook, Staten Island:1\n",
      "( 287 / 306 ) Italian Restaurants in Sandy Ground, Staten Island:1\n",
      "( 288 / 306 ) Italian Restaurants in Egbertville, Staten Island:1\n",
      "( 289 / 306 ) Italian Restaurants in Roxbury, Queens:0\n",
      "( 290 / 306 ) Italian Restaurants in Homecrest, Brooklyn:1\n",
      "( 291 / 306 ) Italian Restaurants in Middle Village, Queens:1\n",
      "( 292 / 306 ) Italian Restaurants in Prince's Bay, Staten Island:0\n",
      "( 293 / 306 ) Italian Restaurants in Lighthouse Hill, Staten Island:2\n",
      "( 294 / 306 ) Italian Restaurants in Richmond Valley, Staten Island:2\n",
      "( 295 / 306 ) Italian Restaurants in Malba, Queens:1\n",
      "( 296 / 306 ) Italian Restaurants in Highland Park, Brooklyn:0\n",
      "( 297 / 306 ) Italian Restaurants in Madison, Brooklyn:1\n",
      "( 298 / 306 ) Italian Restaurants in Bronxdale, Bronx:5\n",
      "( 299 / 306 ) Italian Restaurants in Allerton, Bronx:0\n",
      "( 300 / 306 ) Italian Restaurants in Kingsbridge Heights, Bronx:0\n",
      "( 301 / 306 ) Italian Restaurants in Erasmus, Brooklyn:0\n",
      "( 302 / 306 ) Italian Restaurants in Hudson Yards, Manhattan:3\n",
      "( 303 / 306 ) Italian Restaurants in Hammels, Queens:0\n",
      "( 304 / 306 ) Italian Restaurants in Bayswater, Queens:0\n",
      "( 305 / 306 ) Italian Restaurants in Queensbridge, Queens:3\n",
      "( 306 / 306 ) Italian Restaurants in Fox Hills, Staten Island:0\n"
     ]
    }
   ],
   "source": [
    "# prepare neighborhood list that contains Italian restaurants\n",
    "column_names=['Borough', 'Neighborhood', 'ID','Name']\n",
    "italian_rest_ny=pd.DataFrame(columns=column_names)\n",
    "count=1\n",
    "for row in new_york_data.values.tolist():\n",
    "    Borough, Neighborhood, Latitude, Longitude=row\n",
    "    venues = get_venues(Latitude,Longitude)\n",
    "    italian_restaurants=venues[venues['Category']=='Italian Restaurant']   \n",
    "    print('(',count,'/',len(new_york_data),')','Italian Restaurants in '+Neighborhood+', '+Borough+':'+str(len(italian_restaurants)))\n",
    "    for restaurant_detail in italian_restaurants.values.tolist():\n",
    "        id, name , category=restaurant_detail\n",
    "        italian_rest_ny = italian_rest_ny.append({'Borough': Borough,\n",
    "                                                'Neighborhood': Neighborhood, \n",
    "                                                'ID': id,\n",
    "                                                'Name' : name\n",
    "                                               }, ignore_index=True)\n",
    "    count+=1"
   ]
  },
  {
   "cell_type": "code",
   "execution_count": 25,
   "metadata": {},
   "outputs": [
    {
     "data": {
      "text/plain": [
       "(529, 4)"
      ]
     },
     "execution_count": 25,
     "metadata": {},
     "output_type": "execute_result"
    }
   ],
   "source": [
    "italian_rest_ny.shape"
   ]
  },
  {
   "cell_type": "code",
   "execution_count": 26,
   "metadata": {},
   "outputs": [
    {
     "data": {
      "image/png": "[encoded data removed]",
      "text/plain": [
       "<matplotlib.figure.Figure at 0x116fa5630>"
      ]
     },
     "metadata": {},
     "output_type": "display_data"
    }
   ],
   "source": [
    "plt.figure(figsize=(9,5), dpi = 100)\n",
    "# title\n",
    "plt.title('Number of Italian Restaurants for each Borough in New York City')\n",
    "#On x-axis\n",
    "plt.xlabel('Borough', fontsize = 15)\n",
    "#On y-axis\n",
    "plt.ylabel('No.of Italian Restaurants', fontsize=15)\n",
    "#giving a bar plot\n",
    "italian_rest_ny.groupby('Borough')['ID'].count().plot(kind='bar')\n",
    "#legend\n",
    "plt.legend()\n",
    "#displays the plot\n",
    "plt.show()"
   ]
  },
  {
   "cell_type": "markdown",
   "metadata": {},
   "source": [
    "plt.figure(figsize=(9,5), dpi = 100)\n",
    "# title\n",
    "plt.title('Number of Italian Restaurants for each Neighborhood in New York City')\n",
    "#On x-axis\n",
    "plt.xlabel('Neighborood', fontsize = 15)\n",
    "#On y-axis\n",
    "plt.ylabel('No.of Italian Restaurants', fontsize=15)\n",
    "#giving a bar plot\n",
    "italian_rest_ny.groupby('Neighborhood')['ID'].count().plot(kind='bar')\n",
    "#legend\n",
    "plt.legend()\n",
    "#displays the plot\n",
    "plt.show()"
   ]
  },
  {
   "cell_type": "code",
   "execution_count": 32,
   "metadata": {},
   "outputs": [
    {
     "data": {
      "text/html": [
       "<div>\n",
       "<style>\n",
       "    .dataframe thead tr:only-child th {\n",
       "        text-align: right;\n",
       "    }\n",
       "\n",
       "    .dataframe thead th {\n",
       "        text-align: left;\n",
       "    }\n",
       "\n",
       "    .dataframe tbody tr th {\n",
       "        vertical-align: top;\n",
       "    }\n",
       "</style>\n",
       "<table border=\"1\" class=\"dataframe\">\n",
       "  <thead>\n",
       "    <tr style=\"text-align: right;\">\n",
       "      <th></th>\n",
       "      <th>Borough</th>\n",
       "      <th>Neighborhood</th>\n",
       "      <th>ID</th>\n",
       "      <th>Name</th>\n",
       "    </tr>\n",
       "  </thead>\n",
       "  <tbody>\n",
       "    <tr>\n",
       "      <th>284</th>\n",
       "      <td>Queens</td>\n",
       "      <td>Forest Hills</td>\n",
       "      <td>4c8d2ce6f87e224bfb6d3b05</td>\n",
       "      <td>Tuscan Hills</td>\n",
       "    </tr>\n",
       "    <tr>\n",
       "      <th>285</th>\n",
       "      <td>Queens</td>\n",
       "      <td>Forest Hills</td>\n",
       "      <td>4ba0203af964a520105c37e3</td>\n",
       "      <td>Portofino Ristorante</td>\n",
       "    </tr>\n",
       "  </tbody>\n",
       "</table>\n",
       "</div>"
      ],
      "text/plain": [
       "    Borough  Neighborhood                        ID                  Name\n",
       "284  Queens  Forest Hills  4c8d2ce6f87e224bfb6d3b05          Tuscan Hills\n",
       "285  Queens  Forest Hills  4ba0203af964a520105c37e3  Portofino Ristorante"
      ]
     },
     "execution_count": 32,
     "metadata": {},
     "output_type": "execute_result"
    }
   ],
   "source": [
    "italian_rest_ny[italian_rest_ny['Neighborhood']=='Forest Hills']"
   ]
  },
  {
   "cell_type": "markdown",
   "metadata": {},
   "source": [
    "Now we will get the ranking of each resturant for further analysis."
   ]
  },
  {
   "cell_type": "code",
   "execution_count": 34,
   "metadata": {},
   "outputs": [
    {
     "name": "stdout",
     "output_type": "stream",
     "text": [
      "                         ID                  Name  Likes  Rating  Tips\n",
      "0  55aaee4d498e3cbb70e625d6  Bella Notte Pizzeria      9     6.8     4\n",
      "( 1 / 529 ) processed\n",
      "                         ID                  Name  Likes  Rating  Tips\n",
      "0  55aaee4d498e3cbb70e625d6  Bella Notte Pizzeria      9     6.8     4\n",
      "( 2 / 529 ) processed\n",
      "                         ID                    Name  Likes  Rating  Tips\n",
      "0  511edb6de4b0d58346fd272d  Patrizia's Of Woodlawn     18     8.5    14\n",
      "( 3 / 529 ) processed\n",
      "                         ID        Name  Likes  Rating  Tips\n",
      "0  4c9518076b35a143d5dc21dc  Fratelli's     22     8.7     6\n",
      "( 4 / 529 ) processed\n",
      "                         ID          Name  Likes  Rating  Tips\n",
      "0  5411894d498e4a254a11a46c  Olive Garden     26     7.4     8\n",
      "( 5 / 529 ) processed\n",
      "                         ID    Name  Likes  Rating  Tips\n",
      "0  4bf96ae65317a593d837017f  Enzo's     26     8.6    11\n",
      "( 6 / 529 ) processed\n",
      "                         ID        Name  Likes  Rating  Tips\n",
      "0  4b10591af964a5205f6e23e3  Patricia's     84     8.4    39\n",
      "( 7 / 529 ) processed\n",
      "                         ID         Name  Likes  Rating  Tips\n",
      "0  4b47f069f964a5208c4426e3  Pasta Pasta      9     6.3     8\n",
      "( 8 / 529 ) processed\n",
      "                         ID                       Name  Likes  Rating  Tips\n",
      "0  4514ed4df964a520e5391fe3  Artie's Steak and Seafood     46     8.1    28\n",
      "( 9 / 529 ) processed\n",
      "                         ID                      Name  Likes  Rating  Tips\n",
      "0  55905336498e1a9217de2a7a  Scavello's On The Island     13     8.5     2\n",
      "( 10 / 529 ) processed\n",
      "                         ID                  Name  Likes  Rating  Tips\n",
      "0  4b80a1c3f964a520488230e3  Portofino Restaurant     10     5.8    10\n",
      "( 11 / 529 ) processed\n",
      "                         ID          Name  Likes  Rating  Tips\n",
      "0  4b1712a8f964a520dbc123e3  Jolly Tinker     19     7.7     4\n",
      "( 12 / 529 ) processed\n",
      "                         ID                 Name  Likes  Rating  Tips\n",
      "0  4acf80aef964a52025d420e3  Tino's Delicatessen    147     9.3    48\n",
      "( 13 / 529 ) processed\n",
      "                         ID                 Name  Likes  Rating  Tips\n",
      "0  4bb6470cef159c7465b275f7  Calabria Pork Store     31     9.0    13\n",
      "( 14 / 529 ) processed\n",
      "                         ID                 Name  Likes  Rating  Tips\n",
      "0  4b5a4c8ff964a52049bb28e3  Emilia's Restaurant     37     8.5    17\n",
      "( 15 / 529 ) processed\n",
      "                         ID    Name  Likes  Rating  Tips\n",
      "0  4b5514c4f964a5207cda27e3  Enzo's     42     8.4    19\n",
      "( 16 / 529 ) processed\n",
      "                         ID                  Name  Likes  Rating  Tips\n",
      "0  59050f51b23dfa5f6649e678  Arthur Avenue Fiasco     10     8.2     4\n",
      "( 17 / 529 ) processed\n",
      "                         ID                   Name  Likes  Rating  Tips\n",
      "0  4aa425bef964a5208e4520e3  Dominick's Restaurant    101     8.0    37\n",
      "( 18 / 529 ) processed\n",
      "                         ID  \\\n",
      "0  4af71916f964a520cf0522e3   \n",
      "\n",
      "                                                Name  Likes  Rating  Tips  \n",
      "0  Michaelangelo's Coal Fired Brick Oven Pizza Re...     39     7.8    25  \n",
      "( 19 / 529 ) processed\n",
      "                         ID                Name  Likes  Rating  Tips\n",
      "0  4c9b9e7b9c663704b90463fd  Gerbasi Ristorante     15     7.3    12\n",
      "( 20 / 529 ) processed\n",
      "                         ID                    Name  Likes  Rating  Tips\n",
      "0  53ff939c498e6b601dfa3979  San Gennaro Ristorante     17     7.2     1\n",
      "( 21 / 529 ) processed\n",
      "                         ID  \\\n",
      "0  4bc67f1104e8b713a833362d   \n",
      "\n",
      "                                                Name  Likes  Rating  Tips  \n",
      "0  Ann & Tony's - An Original Arthur Avenue Resta...     12     6.8     8  \n",
      "( 22 / 529 ) processed\n",
      "                         ID         Name  Likes  Rating  Tips\n",
      "0  5956be26123a195de6701c2b  Porto Salvo     10     8.2     5\n",
      "( 23 / 529 ) processed\n",
      "                         ID                          Name  Likes  Rating  Tips\n",
      "0  4bb692672ea19521a6ecab2f  Venice Restaurant & Pizzeria      8     7.4     9\n",
      "( 24 / 529 ) processed\n",
      "                         ID     Name  Likes  Rating  Tips\n",
      "0  4e6acfb1ae60950955a9b02b  Wish 37      3     6.6     6\n",
      "( 25 / 529 ) processed\n",
      "                         ID         Name  Likes  Rating  Tips\n",
      "0  5956be26123a195de6701c2b  Porto Salvo     10     8.2     5\n",
      "( 26 / 529 ) processed\n",
      "                         ID                   Name  Likes  Rating  Tips\n",
      "0  4b4e3e87f964a5209de626e3  Patricia's of Tremont     47     8.2    29\n",
      "( 27 / 529 ) processed\n",
      "                         ID            Name  Likes  Rating  Tips\n",
      "0  4b958fccf964a52091a934e3  Ice House Cafe     11     7.4    14\n",
      "( 28 / 529 ) processed\n",
      "                         ID           Name  Likes  Rating  Tips\n",
      "0  4d4456d93616b60c953fe3c2  Tosca Marquee     20     6.8    14\n",
      "( 29 / 529 ) processed\n",
      "                         ID                        Name  Likes  Rating  Tips\n",
      "0  4c1d717b8b3aa59363a99a5f  Spoto's Italian Restaurant      6     6.6    11\n",
      "( 30 / 529 ) processed\n",
      "                         ID                         Name  Likes  Rating  Tips\n",
      "0  4b6cb1c0f964a520d04c2ce3  Mamma Lucia's Pizza & Pasta      3     6.6    10\n",
      "( 31 / 529 ) processed\n",
      "                         ID                       Name  Likes  Rating  Tips\n",
      "0  4b491198f964a5208f6426e3  Rino's Italian Restaurant      6     6.6     1\n",
      "( 32 / 529 ) processed\n",
      "                         ID                      Name  Likes  Rating  Tips\n",
      "0  4c9e1ef2542b224b70a3f09f  Lucca Italian Restaurant      7     8.0     4\n",
      "( 33 / 529 ) processed\n",
      "                         ID                           Name  Likes  Rating  \\\n",
      "0  4b85b6b3f964a5209b6e31e3  Giovanni's Italian Restaurant     11     7.5   \n",
      "\n",
      "   Tips  \n",
      "0    10  \n",
      "( 34 / 529 ) processed\n",
      "                         ID         Name  Likes  Rating  Tips\n",
      "0  4b634812f964a520936f2ae3  Vito's Deli      6     7.0     5\n",
      "( 35 / 529 ) processed\n",
      "Empty DataFrame\n",
      "Columns: [ID, Name, Likes, Rating, Tips]\n",
      "Index: []\n",
      "No data available for id= 51f69c7a498e0655f8d77b3e\n",
      "( 36 / 529 ) processed\n",
      "                         ID       Name  Likes  Rating  Tips\n",
      "0  51aa5120498ec578a5ad0ac4  The Pines      4     6.9     4\n",
      "( 37 / 529 ) processed\n",
      "                         ID               Name  Likes  Rating  Tips\n",
      "0  3fd66200f964a5207bf11ee3  F & J Pine Tavern    177     8.7    72\n",
      "( 38 / 529 ) processed\n",
      "                         ID                 Name  Likes  Rating  Tips\n",
      "0  4bd1d5fdcaff95211c6ed1f0  900 Park Restaurant     57     7.3    19\n",
      "( 39 / 529 ) processed\n",
      "                         ID        Name  Likes  Rating  Tips\n",
      "0  4b10591af964a5205f6e23e3  Patricia's     84     8.4    39\n",
      "( 40 / 529 ) processed\n",
      "                         ID    Name  Likes  Rating  Tips\n",
      "0  4bf96ae65317a593d837017f  Enzo's     26     8.6    11\n",
      "( 41 / 529 ) processed\n",
      "                         ID                 Name  Likes  Rating  Tips\n",
      "0  4bd1d5fdcaff95211c6ed1f0  900 Park Restaurant     57     7.3    19\n",
      "( 42 / 529 ) processed\n",
      "                         ID       Name  Likes  Rating  Tips\n",
      "0  51aa5120498ec578a5ad0ac4  The Pines      4     6.9     4\n",
      "( 43 / 529 ) processed\n",
      "                         ID         Name  Likes  Rating  Tips\n",
      "0  4b47f069f964a5208c4426e3  Pasta Pasta      9     6.3     8\n",
      "( 44 / 529 ) processed\n",
      "                         ID                 Name  Likes  Rating  Tips\n",
      "0  4acf80aef964a52025d420e3  Tino's Delicatessen    147     9.3    48\n",
      "( 45 / 529 ) processed\n",
      "                         ID                 Name  Likes  Rating  Tips\n",
      "0  4bb6470cef159c7465b275f7  Calabria Pork Store     31     9.0    13\n",
      "( 46 / 529 ) processed\n",
      "                         ID                 Name  Likes  Rating  Tips\n",
      "0  4af0fa29f964a52060e021e3  Antonio's Trattoria    119     8.9    44\n",
      "( 47 / 529 ) processed\n",
      "                         ID                  Name  Likes  Rating  Tips\n",
      "0  59050f51b23dfa5f6649e678  Arthur Avenue Fiasco     10     8.2     4\n",
      "( 48 / 529 ) processed\n",
      "                         ID    Name  Likes  Rating  Tips\n",
      "0  4b5514c4f964a5207cda27e3  Enzo's     42     8.4    19\n",
      "( 49 / 529 ) processed\n",
      "                         ID                 Name  Likes  Rating  Tips\n",
      "0  4b5a4c8ff964a52049bb28e3  Emilia's Restaurant     37     8.5    17\n",
      "( 50 / 529 ) processed\n",
      "                         ID       Name  Likes  Rating  Tips\n",
      "0  4a8e261cf964a5201c1220e3  Roberto's     65     8.5    23\n",
      "( 51 / 529 ) processed\n"
     ]
    },
    {
     "ename": "KeyError",
     "evalue": "'venue'",
     "output_type": "error",
     "traceback": [
      "\u001b[0;31m---------------------------------------------------------------------------\u001b[0m",
      "\u001b[0;31mKeyError\u001b[0m                                  Traceback (most recent call last)",
      "\u001b[0;32m<ipython-input-34-3cf63315f1e6>\u001b[0m in \u001b[0;36m<module>\u001b[0;34m()\u001b[0m\n\u001b[1;32m      8\u001b[0m     \u001b[0mBorough\u001b[0m\u001b[0;34m,\u001b[0m\u001b[0mNeighborhood\u001b[0m\u001b[0;34m,\u001b[0m\u001b[0mID\u001b[0m\u001b[0;34m,\u001b[0m\u001b[0mName\u001b[0m\u001b[0;34m=\u001b[0m\u001b[0mrow\u001b[0m\u001b[0;34m\u001b[0m\u001b[0;34m\u001b[0m\u001b[0m\n\u001b[1;32m      9\u001b[0m     \u001b[0;32mtry\u001b[0m\u001b[0;34m:\u001b[0m\u001b[0;34m\u001b[0m\u001b[0;34m\u001b[0m\u001b[0m\n\u001b[0;32m---> 10\u001b[0;31m         \u001b[0mvenue_details\u001b[0m\u001b[0;34m=\u001b[0m\u001b[0mget_venue_details\u001b[0m\u001b[0;34m(\u001b[0m\u001b[0mID\u001b[0m\u001b[0;34m)\u001b[0m\u001b[0;34m\u001b[0m\u001b[0;34m\u001b[0m\u001b[0m\n\u001b[0m\u001b[1;32m     11\u001b[0m         \u001b[0mprint\u001b[0m\u001b[0;34m(\u001b[0m\u001b[0mvenue_details\u001b[0m\u001b[0;34m)\u001b[0m\u001b[0;34m\u001b[0m\u001b[0;34m\u001b[0m\u001b[0m\n\u001b[1;32m     12\u001b[0m         \u001b[0mid\u001b[0m\u001b[0;34m,\u001b[0m\u001b[0mname\u001b[0m\u001b[0;34m,\u001b[0m\u001b[0mlikes\u001b[0m\u001b[0;34m,\u001b[0m\u001b[0mrating\u001b[0m\u001b[0;34m,\u001b[0m\u001b[0mtips\u001b[0m\u001b[0;34m=\u001b[0m\u001b[0mvenue_details\u001b[0m\u001b[0;34m.\u001b[0m\u001b[0mvalues\u001b[0m\u001b[0;34m.\u001b[0m\u001b[0mtolist\u001b[0m\u001b[0;34m(\u001b[0m\u001b[0;34m)\u001b[0m\u001b[0;34m[\u001b[0m\u001b[0;36m0\u001b[0m\u001b[0;34m]\u001b[0m\u001b[0;34m\u001b[0m\u001b[0;34m\u001b[0m\u001b[0m\n",
      "\u001b[0;32m<ipython-input-11-ffd0194894df>\u001b[0m in \u001b[0;36mget_venue_details\u001b[0;34m(venue_id)\u001b[0m\n\u001b[1;32m     14\u001b[0m     \u001b[0;31m# get all the data\u001b[0m\u001b[0;34m\u001b[0m\u001b[0;34m\u001b[0m\u001b[0;34m\u001b[0m\u001b[0m\n\u001b[1;32m     15\u001b[0m     \u001b[0mresults\u001b[0m \u001b[0;34m=\u001b[0m \u001b[0mrequests\u001b[0m\u001b[0;34m.\u001b[0m\u001b[0mget\u001b[0m\u001b[0;34m(\u001b[0m\u001b[0murl\u001b[0m\u001b[0;34m)\u001b[0m\u001b[0;34m.\u001b[0m\u001b[0mjson\u001b[0m\u001b[0;34m(\u001b[0m\u001b[0;34m)\u001b[0m\u001b[0;34m\u001b[0m\u001b[0;34m\u001b[0m\u001b[0m\n\u001b[0;32m---> 16\u001b[0;31m     \u001b[0mvenue_data\u001b[0m\u001b[0;34m=\u001b[0m\u001b[0mresults\u001b[0m\u001b[0;34m[\u001b[0m\u001b[0;34m'response'\u001b[0m\u001b[0;34m]\u001b[0m\u001b[0;34m[\u001b[0m\u001b[0;34m'venue'\u001b[0m\u001b[0;34m]\u001b[0m\u001b[0;34m\u001b[0m\u001b[0;34m\u001b[0m\u001b[0m\n\u001b[0m\u001b[1;32m     17\u001b[0m     \u001b[0mvenue_details\u001b[0m\u001b[0;34m=\u001b[0m\u001b[0;34m[\u001b[0m\u001b[0;34m]\u001b[0m\u001b[0;34m\u001b[0m\u001b[0;34m\u001b[0m\u001b[0m\n\u001b[1;32m     18\u001b[0m     \u001b[0;32mtry\u001b[0m\u001b[0;34m:\u001b[0m\u001b[0;34m\u001b[0m\u001b[0;34m\u001b[0m\u001b[0m\n",
      "\u001b[0;31mKeyError\u001b[0m: 'venue'"
     ]
    }
   ],
   "source": [
    "# prepare neighborhood list that contains indian resturants\n",
    "column_names=['Borough', 'Neighborhood', 'ID','Name','Likes','Rating','Tips']\n",
    "italian_rest_stats_ny=pd.DataFrame(columns=column_names)\n",
    "count=1\n",
    "\n",
    "\n",
    "for row in italian_rest_ny.values.tolist():\n",
    "    Borough,Neighborhood,ID,Name=row\n",
    "    try:\n",
    "        venue_details=get_venue_details(ID)\n",
    "        print(venue_details)\n",
    "        id,name,likes,rating,tips=venue_details.values.tolist()[0]\n",
    "    except IndexError:\n",
    "        print('No data available for id=',ID)\n",
    "        # we will assign 0 value for these resturants as they may have been \n",
    "        #recently opened or details does not exist in FourSquare Database\n",
    "        id,name,likes,rating,tips=[0]*5\n",
    "    print('(',count,'/',len(italian_rest_ny),')','processed')\n",
    "    italian_rest_stats_ny = italian_rest_stats_ny.append({'Borough': Borough,\n",
    "                                                'Neighborhood': Neighborhood, \n",
    "                                                'ID': id,\n",
    "                                                'Name' : name,\n",
    "                                                'Likes' : likes,\n",
    "                                                'Rating' : rating,\n",
    "                                                'Tips' : tips\n",
    "                                               }, ignore_index=True)\n",
    "    count+=1"
   ]
  },
  {
   "cell_type": "code",
   "execution_count": 35,
   "metadata": {},
   "outputs": [
    {
     "data": {
      "text/plain": [
       "(51, 7)"
      ]
     },
     "execution_count": 35,
     "metadata": {},
     "output_type": "execute_result"
    }
   ],
   "source": [
    "italian_rest_stats_ny.shape"
   ]
  },
  {
   "cell_type": "code",
   "execution_count": 36,
   "metadata": {},
   "outputs": [
    {
     "data": {
      "text/plain": [
       "(529, 4)"
      ]
     },
     "execution_count": 36,
     "metadata": {},
     "output_type": "execute_result"
    }
   ],
   "source": [
    "italian_rest_ny.shape"
   ]
  },
  {
   "cell_type": "markdown",
   "metadata": {},
   "source": [
    "So we got data for all resturants Now lets save this data to a csv sheet. In case we by mistake modify it. As the number of calls to get details for venue are premium call and have limit of 500 per day, we will refer to saved data sheet csv if required"
   ]
  },
  {
   "cell_type": "code",
   "execution_count": 38,
   "metadata": {},
   "outputs": [],
   "source": [
    "italian_rest_stats_ny.to_csv('italian_rest_stats_ny.csv', index=False)"
   ]
  },
  {
   "cell_type": "markdown",
   "metadata": {},
   "source": [
    "Lets verify the data from saved csv file"
   ]
  },
  {
   "cell_type": "code",
   "execution_count": 39,
   "metadata": {
    "collapsed": true
   },
   "outputs": [],
   "source": [
    "italian_rest_stats_ny_csv=pd.read_csv('italian_rest_stats_ny.csv')"
   ]
  },
  {
   "cell_type": "code",
   "execution_count": 40,
   "metadata": {},
   "outputs": [
    {
     "data": {
      "text/plain": [
       "(51, 7)"
      ]
     },
     "execution_count": 40,
     "metadata": {},
     "output_type": "execute_result"
    }
   ],
   "source": [
    "italian_rest_stats_ny_csv.shape"
   ]
  },
  {
   "cell_type": "code",
   "execution_count": 41,
   "metadata": {},
   "outputs": [
    {
     "data": {
      "text/html": [
       "<div>\n",
       "<style>\n",
       "    .dataframe thead tr:only-child th {\n",
       "        text-align: right;\n",
       "    }\n",
       "\n",
       "    .dataframe thead th {\n",
       "        text-align: left;\n",
       "    }\n",
       "\n",
       "    .dataframe tbody tr th {\n",
       "        vertical-align: top;\n",
       "    }\n",
       "</style>\n",
       "<table border=\"1\" class=\"dataframe\">\n",
       "  <thead>\n",
       "    <tr style=\"text-align: right;\">\n",
       "      <th></th>\n",
       "      <th>Borough</th>\n",
       "      <th>Neighborhood</th>\n",
       "      <th>ID</th>\n",
       "      <th>Name</th>\n",
       "      <th>Likes</th>\n",
       "      <th>Rating</th>\n",
       "      <th>Tips</th>\n",
       "    </tr>\n",
       "  </thead>\n",
       "  <tbody>\n",
       "    <tr>\n",
       "      <th>0</th>\n",
       "      <td>Bronx</td>\n",
       "      <td>Riverdale</td>\n",
       "      <td>55aaee4d498e3cbb70e625d6</td>\n",
       "      <td>Bella Notte Pizzeria</td>\n",
       "      <td>9</td>\n",
       "      <td>6.8</td>\n",
       "      <td>4</td>\n",
       "    </tr>\n",
       "    <tr>\n",
       "      <th>1</th>\n",
       "      <td>Bronx</td>\n",
       "      <td>Kingsbridge</td>\n",
       "      <td>55aaee4d498e3cbb70e625d6</td>\n",
       "      <td>Bella Notte Pizzeria</td>\n",
       "      <td>9</td>\n",
       "      <td>6.8</td>\n",
       "      <td>4</td>\n",
       "    </tr>\n",
       "    <tr>\n",
       "      <th>2</th>\n",
       "      <td>Bronx</td>\n",
       "      <td>Woodlawn</td>\n",
       "      <td>511edb6de4b0d58346fd272d</td>\n",
       "      <td>Patrizia's Of Woodlawn</td>\n",
       "      <td>18</td>\n",
       "      <td>8.5</td>\n",
       "      <td>14</td>\n",
       "    </tr>\n",
       "    <tr>\n",
       "      <th>3</th>\n",
       "      <td>Bronx</td>\n",
       "      <td>Baychester</td>\n",
       "      <td>4c9518076b35a143d5dc21dc</td>\n",
       "      <td>Fratelli's</td>\n",
       "      <td>22</td>\n",
       "      <td>8.7</td>\n",
       "      <td>6</td>\n",
       "    </tr>\n",
       "    <tr>\n",
       "      <th>4</th>\n",
       "      <td>Bronx</td>\n",
       "      <td>Baychester</td>\n",
       "      <td>5411894d498e4a254a11a46c</td>\n",
       "      <td>Olive Garden</td>\n",
       "      <td>26</td>\n",
       "      <td>7.4</td>\n",
       "      <td>8</td>\n",
       "    </tr>\n",
       "  </tbody>\n",
       "</table>\n",
       "</div>"
      ],
      "text/plain": [
       "  Borough Neighborhood                        ID                    Name  \\\n",
       "0   Bronx    Riverdale  55aaee4d498e3cbb70e625d6    Bella Notte Pizzeria   \n",
       "1   Bronx  Kingsbridge  55aaee4d498e3cbb70e625d6    Bella Notte Pizzeria   \n",
       "2   Bronx     Woodlawn  511edb6de4b0d58346fd272d  Patrizia's Of Woodlawn   \n",
       "3   Bronx   Baychester  4c9518076b35a143d5dc21dc              Fratelli's   \n",
       "4   Bronx   Baychester  5411894d498e4a254a11a46c            Olive Garden   \n",
       "\n",
       "   Likes  Rating  Tips  \n",
       "0      9     6.8     4  \n",
       "1      9     6.8     4  \n",
       "2     18     8.5    14  \n",
       "3     22     8.7     6  \n",
       "4     26     7.4     8  "
      ]
     },
     "execution_count": 41,
     "metadata": {},
     "output_type": "execute_result"
    }
   ],
   "source": [
    "italian_rest_stats_ny_csv.head()"
   ]
  },
  {
   "cell_type": "code",
   "execution_count": 42,
   "metadata": {},
   "outputs": [
    {
     "name": "stdout",
     "output_type": "stream",
     "text": [
      "<class 'pandas.core.frame.DataFrame'>\n",
      "RangeIndex: 51 entries, 0 to 50\n",
      "Data columns (total 7 columns):\n",
      "Borough         51 non-null object\n",
      "Neighborhood    51 non-null object\n",
      "ID              51 non-null object\n",
      "Name            51 non-null object\n",
      "Likes           51 non-null object\n",
      "Rating          51 non-null float64\n",
      "Tips            51 non-null object\n",
      "dtypes: float64(1), object(6)\n",
      "memory usage: 2.9+ KB\n"
     ]
    }
   ],
   "source": [
    "italian_rest_stats_ny.info()"
   ]
  },
  {
   "cell_type": "markdown",
   "metadata": {},
   "source": [
    "We see that values like Likes, Tips are string values. We would need to convert them into float for further analysis"
   ]
  },
  {
   "cell_type": "code",
   "execution_count": 44,
   "metadata": {},
   "outputs": [],
   "source": [
    "italian_rest_stats_ny['Likes']=italian_rest_stats_ny['Likes'].astype('float64')"
   ]
  },
  {
   "cell_type": "code",
   "execution_count": 45,
   "metadata": {
    "collapsed": true
   },
   "outputs": [],
   "source": [
    "italian_rest_stats_ny['Tips']=italian_rest_stats_ny['Tips'].astype('float64')"
   ]
  },
  {
   "cell_type": "code",
   "execution_count": 46,
   "metadata": {},
   "outputs": [
    {
     "name": "stdout",
     "output_type": "stream",
     "text": [
      "<class 'pandas.core.frame.DataFrame'>\n",
      "RangeIndex: 51 entries, 0 to 50\n",
      "Data columns (total 7 columns):\n",
      "Borough         51 non-null object\n",
      "Neighborhood    51 non-null object\n",
      "ID              51 non-null object\n",
      "Name            51 non-null object\n",
      "Likes           51 non-null float64\n",
      "Rating          51 non-null float64\n",
      "Tips            51 non-null float64\n",
      "dtypes: float64(3), object(4)\n",
      "memory usage: 2.9+ KB\n"
     ]
    }
   ],
   "source": [
    "italian_rest_stats_ny.info()"
   ]
  },
  {
   "cell_type": "code",
   "execution_count": 47,
   "metadata": {},
   "outputs": [
    {
     "data": {
      "text/plain": [
       "Borough                            Bronx\n",
       "Neighborhood                    Van Nest\n",
       "ID              3fd66200f964a5207bf11ee3\n",
       "Name                   F & J Pine Tavern\n",
       "Likes                                177\n",
       "Rating                               8.7\n",
       "Tips                                  72\n",
       "Name: 37, dtype: object"
      ]
     },
     "execution_count": 47,
     "metadata": {},
     "output_type": "execute_result"
    }
   ],
   "source": [
    "# Resturant with maximum Likes\n",
    "italian_rest_stats_ny.iloc[italian_rest_stats_ny['Likes'].idxmax()]"
   ]
  },
  {
   "cell_type": "code",
   "execution_count": 48,
   "metadata": {},
   "outputs": [
    {
     "data": {
      "text/plain": [
       "Borough                            Bronx\n",
       "Neighborhood                     Fordham\n",
       "ID              4acf80aef964a52025d420e3\n",
       "Name                 Tino's Delicatessen\n",
       "Likes                                147\n",
       "Rating                               9.3\n",
       "Tips                                  48\n",
       "Name: 12, dtype: object"
      ]
     },
     "execution_count": 48,
     "metadata": {},
     "output_type": "execute_result"
    }
   ],
   "source": [
    "# Resturant with maximum Rating\n",
    "italian_rest_stats_ny.iloc[italian_rest_stats_ny['Rating'].idxmax()]"
   ]
  },
  {
   "cell_type": "code",
   "execution_count": 49,
   "metadata": {},
   "outputs": [
    {
     "data": {
      "text/plain": [
       "Borough                            Bronx\n",
       "Neighborhood                    Van Nest\n",
       "ID              3fd66200f964a5207bf11ee3\n",
       "Name                   F & J Pine Tavern\n",
       "Likes                                177\n",
       "Rating                               8.7\n",
       "Tips                                  72\n",
       "Name: 37, dtype: object"
      ]
     },
     "execution_count": 49,
     "metadata": {},
     "output_type": "execute_result"
    }
   ],
   "source": [
    "# Resturant with maximum Tips\n",
    "italian_rest_stats_ny.iloc[italian_rest_stats_ny['Tips'].idxmax()]"
   ]
  },
  {
   "cell_type": "markdown",
   "metadata": {},
   "source": [
    "Now lets visualize neighborhood with maximum average rating of resturants\n",
    "\n"
   ]
  },
  {
   "cell_type": "code",
   "execution_count": 50,
   "metadata": {
    "collapsed": true
   },
   "outputs": [],
   "source": [
    "ny_neighborhood_stats=italian_rest_stats_ny.groupby('Neighborhood',as_index=False).mean()[['Neighborhood','Rating']]\n",
    "ny_neighborhood_stats.columns=['Neighborhood','Average Rating']"
   ]
  },
  {
   "cell_type": "code",
   "execution_count": 51,
   "metadata": {
    "scrolled": true
   },
   "outputs": [
    {
     "data": {
      "text/html": [
       "<div>\n",
       "<style>\n",
       "    .dataframe thead tr:only-child th {\n",
       "        text-align: right;\n",
       "    }\n",
       "\n",
       "    .dataframe thead th {\n",
       "        text-align: left;\n",
       "    }\n",
       "\n",
       "    .dataframe tbody tr th {\n",
       "        vertical-align: top;\n",
       "    }\n",
       "</style>\n",
       "<table border=\"1\" class=\"dataframe\">\n",
       "  <thead>\n",
       "    <tr style=\"text-align: right;\">\n",
       "      <th></th>\n",
       "      <th>Neighborhood</th>\n",
       "      <th>Average Rating</th>\n",
       "    </tr>\n",
       "  </thead>\n",
       "  <tbody>\n",
       "    <tr>\n",
       "      <th>2</th>\n",
       "      <td>Belmont</td>\n",
       "      <td>8.685714</td>\n",
       "    </tr>\n",
       "    <tr>\n",
       "      <th>16</th>\n",
       "      <td>Woodlawn</td>\n",
       "      <td>8.500000</td>\n",
       "    </tr>\n",
       "    <tr>\n",
       "      <th>9</th>\n",
       "      <td>Morrisania</td>\n",
       "      <td>8.200000</td>\n",
       "    </tr>\n",
       "    <tr>\n",
       "      <th>5</th>\n",
       "      <td>Fordham</td>\n",
       "      <td>8.050000</td>\n",
       "    </tr>\n",
       "    <tr>\n",
       "      <th>0</th>\n",
       "      <td>Baychester</td>\n",
       "      <td>8.050000</td>\n",
       "    </tr>\n",
       "    <tr>\n",
       "      <th>14</th>\n",
       "      <td>Van Nest</td>\n",
       "      <td>8.000000</td>\n",
       "    </tr>\n",
       "    <tr>\n",
       "      <th>7</th>\n",
       "      <td>Melrose</td>\n",
       "      <td>7.800000</td>\n",
       "    </tr>\n",
       "    <tr>\n",
       "      <th>11</th>\n",
       "      <td>Pelham Parkway</td>\n",
       "      <td>7.766667</td>\n",
       "    </tr>\n",
       "    <tr>\n",
       "      <th>1</th>\n",
       "      <td>Bedford Park</td>\n",
       "      <td>7.700000</td>\n",
       "    </tr>\n",
       "    <tr>\n",
       "      <th>8</th>\n",
       "      <td>Morris Park</td>\n",
       "      <td>7.500000</td>\n",
       "    </tr>\n",
       "  </tbody>\n",
       "</table>\n",
       "</div>"
      ],
      "text/plain": [
       "      Neighborhood  Average Rating\n",
       "2          Belmont        8.685714\n",
       "16        Woodlawn        8.500000\n",
       "9       Morrisania        8.200000\n",
       "5          Fordham        8.050000\n",
       "0       Baychester        8.050000\n",
       "14        Van Nest        8.000000\n",
       "7          Melrose        7.800000\n",
       "11  Pelham Parkway        7.766667\n",
       "1     Bedford Park        7.700000\n",
       "8      Morris Park        7.500000"
      ]
     },
     "execution_count": 51,
     "metadata": {},
     "output_type": "execute_result"
    }
   ],
   "source": [
    "ny_neighborhood_stats.sort_values(['Average Rating'],ascending=False).head(10)"
   ]
  },
  {
   "cell_type": "markdown",
   "metadata": {},
   "source": [
    "Above are the top neighborhoods with top average rating of Italian restaurants"
   ]
  },
  {
   "cell_type": "code",
   "execution_count": 53,
   "metadata": {},
   "outputs": [],
   "source": [
    "ny_borough_stats=italian_rest_stats_ny.groupby('Borough',as_index=False).mean()[['Borough','Rating']]\n",
    "ny_borough_stats.columns=['Borough','Average Rating']"
   ]
  },
  {
   "cell_type": "code",
   "execution_count": 54,
   "metadata": {},
   "outputs": [
    {
     "data": {
      "text/html": [
       "<div>\n",
       "<style>\n",
       "    .dataframe thead tr:only-child th {\n",
       "        text-align: right;\n",
       "    }\n",
       "\n",
       "    .dataframe thead th {\n",
       "        text-align: left;\n",
       "    }\n",
       "\n",
       "    .dataframe tbody tr th {\n",
       "        vertical-align: top;\n",
       "    }\n",
       "</style>\n",
       "<table border=\"1\" class=\"dataframe\">\n",
       "  <thead>\n",
       "    <tr style=\"text-align: right;\">\n",
       "      <th></th>\n",
       "      <th>Borough</th>\n",
       "      <th>Average Rating</th>\n",
       "    </tr>\n",
       "  </thead>\n",
       "  <tbody>\n",
       "    <tr>\n",
       "      <th>0</th>\n",
       "      <td>Bronx</td>\n",
       "      <td>7.615686</td>\n",
       "    </tr>\n",
       "  </tbody>\n",
       "</table>\n",
       "</div>"
      ],
      "text/plain": [
       "  Borough  Average Rating\n",
       "0   Bronx        7.615686"
      ]
     },
     "execution_count": 54,
     "metadata": {},
     "output_type": "execute_result"
    }
   ],
   "source": [
    "ny_borough_stats.sort_values(['Average Rating'],ascending=False).head()\n"
   ]
  },
  {
   "cell_type": "markdown",
   "metadata": {},
   "source": [
    "Similarly these are the average rating of Indian Resturants for each Borough"
   ]
  },
  {
   "cell_type": "markdown",
   "metadata": {},
   "source": [
    "Lets visualize it"
   ]
  },
  {
   "cell_type": "code",
   "execution_count": 56,
   "metadata": {},
   "outputs": [
    {
     "data": {
      "image/png": "[encoded data removed]",
      "text/plain": [
       "<matplotlib.figure.Figure at 0x118464f60>"
      ]
     },
     "metadata": {},
     "output_type": "display_data"
    }
   ],
   "source": [
    "plt.figure(figsize=(9,5), dpi = 100)\n",
    "# title\n",
    "plt.title('Average rating of Italian Resturants for each Borough')\n",
    "#On x-axis\n",
    "plt.xlabel('Borough', fontsize = 15)\n",
    "#On y-axis\n",
    "plt.ylabel('Average Rating', fontsize=15)\n",
    "#giving a bar plot\n",
    "italian_rest_stats_ny.groupby('Borough').mean()['Rating'].plot(kind='bar')\n",
    "#legend\n",
    "plt.legend()\n",
    "#displays the plot\n",
    "plt.show()\n"
   ]
  },
  {
   "cell_type": "markdown",
   "metadata": {},
   "source": [
    "We will consider all the neighborhoods with average rating greater or equal 9.0 to visualize on map"
   ]
  },
  {
   "cell_type": "code",
   "execution_count": 57,
   "metadata": {},
   "outputs": [
    {
     "data": {
      "text/html": [
       "<div>\n",
       "<style>\n",
       "    .dataframe thead tr:only-child th {\n",
       "        text-align: right;\n",
       "    }\n",
       "\n",
       "    .dataframe thead th {\n",
       "        text-align: left;\n",
       "    }\n",
       "\n",
       "    .dataframe tbody tr th {\n",
       "        vertical-align: top;\n",
       "    }\n",
       "</style>\n",
       "<table border=\"1\" class=\"dataframe\">\n",
       "  <thead>\n",
       "    <tr style=\"text-align: right;\">\n",
       "      <th></th>\n",
       "      <th>Neighborhood</th>\n",
       "      <th>Average Rating</th>\n",
       "    </tr>\n",
       "  </thead>\n",
       "  <tbody>\n",
       "  </tbody>\n",
       "</table>\n",
       "</div>"
      ],
      "text/plain": [
       "Empty DataFrame\n",
       "Columns: [Neighborhood, Average Rating]\n",
       "Index: []"
      ]
     },
     "execution_count": 57,
     "metadata": {},
     "output_type": "execute_result"
    }
   ],
   "source": [
    "ny_neighborhood_stats=ny_neighborhood_stats[ny_neighborhood_stats['Average Rating']>=9.0]\n",
    "ny_neighborhood_stats"
   ]
  },
  {
   "cell_type": "markdown",
   "metadata": {},
   "source": [
    "We will join this dataset to original new york data to get longitude and latitude"
   ]
  },
  {
   "cell_type": "code",
   "execution_count": 58,
   "metadata": {},
   "outputs": [
    {
     "data": {
      "text/html": [
       "<div>\n",
       "<style>\n",
       "    .dataframe thead tr:only-child th {\n",
       "        text-align: right;\n",
       "    }\n",
       "\n",
       "    .dataframe thead th {\n",
       "        text-align: left;\n",
       "    }\n",
       "\n",
       "    .dataframe tbody tr th {\n",
       "        vertical-align: top;\n",
       "    }\n",
       "</style>\n",
       "<table border=\"1\" class=\"dataframe\">\n",
       "  <thead>\n",
       "    <tr style=\"text-align: right;\">\n",
       "      <th></th>\n",
       "      <th>Borough</th>\n",
       "      <th>Neighborhood</th>\n",
       "      <th>Latitude</th>\n",
       "      <th>Longitude</th>\n",
       "      <th>Average Rating</th>\n",
       "    </tr>\n",
       "  </thead>\n",
       "  <tbody>\n",
       "  </tbody>\n",
       "</table>\n",
       "</div>"
      ],
      "text/plain": [
       "Empty DataFrame\n",
       "Columns: [Borough, Neighborhood, Latitude, Longitude, Average Rating]\n",
       "Index: []"
      ]
     },
     "execution_count": 58,
     "metadata": {},
     "output_type": "execute_result"
    }
   ],
   "source": [
    "ny_neighborhood_stats=pd.merge(ny_neighborhood_stats,new_york_data, on='Neighborhood')\n",
    "ny_neighborhood_stats=ny_neighborhood_stats[['Borough','Neighborhood','Latitude','Longitude','Average Rating']]\n",
    "ny_neighborhood_stats"
   ]
  },
  {
   "cell_type": "markdown",
   "metadata": {},
   "source": [
    "Now we will show this data on a map"
   ]
  },
  {
   "cell_type": "code",
   "execution_count": 60,
   "metadata": {},
   "outputs": [],
   "source": [
    " #create map and display it\n",
    "ny_map = folium.Map(location=geo_location('New York'), zoom_start=12)\n",
    "\n",
    "\n",
    "# instantiate a feature group for the incidents in the dataframe\n",
    "incidents = folium.map.FeatureGroup()\n",
    "\n",
    "# loop through the 100 crimes and add each to the incidents feature group\n",
    "for lat, lng, in ny_neighborhood_stats[['Latitude','Longitude']].values:\n",
    "    incidents.add_child(\n",
    "        folium.CircleMarker(\n",
    "            [lat, lng],\n",
    "            radius=10, # define how big you want the circle markers to be\n",
    "            color='yellow',\n",
    "            fill=True,\n",
    "            fill_color='blue',\n",
    "            fill_opacity=0.6\n",
    "        )\n",
    "    )\n"
   ]
  },
  {
   "cell_type": "markdown",
   "metadata": {},
   "source": [
    "Lets add a new field to dataframe for labeling purpose\n",
    "\n"
   ]
  },
  {
   "cell_type": "code",
   "execution_count": 61,
   "metadata": {
    "collapsed": true
   },
   "outputs": [],
   "source": [
    "ny_neighborhood_stats['Label']=ny_neighborhood_stats['Neighborhood']+', '+ny_neighborhood_stats['Borough']+'('+ny_neighborhood_stats['Average Rating'].map(str)+')'\n"
   ]
  },
  {
   "cell_type": "code",
   "execution_count": 63,
   "metadata": {},
   "outputs": [
    {
     "data": {
      "text/html": [
       "<div style=\"width:100%;\"><div style=\"position:relative;width:100%;height:0;padding-bottom:60%;\"><span style=\"color:#565656\">Make this Notebook Trusted to load map: File -> Trust Notebook</span><iframe src=\"about:blank\" style=\"position:absolute;width:100%;height:100%;left:0;top:0;border:none !important;\" data-html=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 onload=\"this.contentDocument.open();this.contentDocument.write(atob(this.getAttribute('data-html')));this.contentDocument.close();\" allowfullscreen webkitallowfullscreen mozallowfullscreen></iframe></div></div>"
      ],
      "text/plain": [
       "<folium.folium.Map at 0x117c6a438>"
      ]
     },
     "execution_count": 63,
     "metadata": {},
     "output_type": "execute_result"
    }
   ],
   "source": [
    "# add pop-up text to each marker on the map\n",
    "for lat, lng, label in ny_neighborhood_stats[['Latitude','Longitude','Label']].values:\n",
    "    folium.Marker([lat, lng], popup=label).add_to(ny_map)        \n",
    "# add incidents to map\n",
    "ny_map.add_child(incidents)"
   ]
  },
  {
   "cell_type": "markdown",
   "metadata": {},
   "source": [
    "**Results** 1.We see that Manhattan has the most Italian restaurants out of all the Boroughs.\n",
    "\n",
    "**Conclusion**\n",
    "\n",
    "The highest rated restaurants are located in Belmont.Bronx has the least amount of restaurants out of all the Boroughs.\n"
   ]
  },
  {
   "cell_type": "code",
   "execution_count": null,
   "metadata": {
    "collapsed": true
   },
   "outputs": [],
   "source": []
  }
 ],
 "metadata": {
  "kernelspec": {
   "display_name": "Python 3",
   "language": "python",
   "name": "python3"
  },
  "language_info": {
   "codemirror_mode": {
    "name": "ipython",
    "version": 3
   },
   "file_extension": ".py",
   "mimetype": "text/x-python",
   "name": "python",
   "nbconvert_exporter": "python",
   "pygments_lexer": "ipython3",
   "version": "3.6.11"
  }
 },
 "nbformat": 4,
 "nbformat_minor": 2
}
